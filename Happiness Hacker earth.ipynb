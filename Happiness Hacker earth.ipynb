{
 "cells": [
  {
   "cell_type": "markdown",
   "metadata": {},
   "source": [
    "# Hacker Earth Assignment\n",
    "### Predict Happiness Source"
   ]
  },
  {
   "cell_type": "markdown",
   "metadata": {},
   "source": [
    "# By: T.Harish Kumar\n",
    "## Email: harishthadakamadla@gmail.com"
   ]
  },
  {
   "cell_type": "markdown",
   "metadata": {},
   "source": [
    "# Problem Statement :"
   ]
  },
  {
   "cell_type": "markdown",
   "metadata": {},
   "source": [
    "Smile DB is a corpus of more than 1,00,000 happy moments crowd sourced via Amazon's Mechanical Truck"
   ]
  },
  {
   "cell_type": "markdown",
   "metadata": {},
   "source": [
    "Based on the Happy moment ststement you have to predict the category of Happiness that is the source of happiness which is typically either of following :\n",
    "<li>bonding</li>\n",
    "<li>achievement</li>\n",
    "<li>affection</li>\n",
    "<li>leisure</li>\n",
    "<li>enjoy_the_moment</li>\n",
    "<li>nature</li>\n",
    "<li>exercise</li>"
   ]
  },
  {
   "cell_type": "code",
   "execution_count": 81,
   "metadata": {},
   "outputs": [],
   "source": [
    "#import necessary libraries.\n",
    "import pandas as pd\n",
    "import numpy as np\n",
    "import csv\n",
    "from datetime import datetime\n",
    "import matplotlib.pyplot as plt # for plotting diagrams\n",
    "from sklearn.model_selection import train_test_split"
   ]
  },
  {
   "cell_type": "markdown",
   "metadata": {},
   "source": [
    "### importing data from csv file  store in data frame."
   ]
  },
  {
   "cell_type": "code",
   "execution_count": 97,
   "metadata": {},
   "outputs": [
    {
     "data": {
      "text/html": [
       "<div>\n",
       "<style scoped>\n",
       "    .dataframe tbody tr th:only-of-type {\n",
       "        vertical-align: middle;\n",
       "    }\n",
       "\n",
       "    .dataframe tbody tr th {\n",
       "        vertical-align: top;\n",
       "    }\n",
       "\n",
       "    .dataframe thead th {\n",
       "        text-align: right;\n",
       "    }\n",
       "</style>\n",
       "<table border=\"1\" class=\"dataframe\">\n",
       "  <thead>\n",
       "    <tr style=\"text-align: right;\">\n",
       "      <th></th>\n",
       "      <th>hmid</th>\n",
       "      <th>reflection_period</th>\n",
       "      <th>cleaned_hm</th>\n",
       "      <th>num_sentence</th>\n",
       "      <th>predicted_category</th>\n",
       "    </tr>\n",
       "  </thead>\n",
       "  <tbody>\n",
       "    <tr>\n",
       "      <th>0</th>\n",
       "      <td>27673</td>\n",
       "      <td>24h</td>\n",
       "      <td>I went on a successful date with someone I fel...</td>\n",
       "      <td>1</td>\n",
       "      <td>affection</td>\n",
       "    </tr>\n",
       "    <tr>\n",
       "      <th>1</th>\n",
       "      <td>27674</td>\n",
       "      <td>24h</td>\n",
       "      <td>I was happy when my son got 90% marks in his e...</td>\n",
       "      <td>1</td>\n",
       "      <td>affection</td>\n",
       "    </tr>\n",
       "    <tr>\n",
       "      <th>2</th>\n",
       "      <td>27675</td>\n",
       "      <td>24h</td>\n",
       "      <td>I went to the gym this morning and did yoga.</td>\n",
       "      <td>1</td>\n",
       "      <td>exercise</td>\n",
       "    </tr>\n",
       "    <tr>\n",
       "      <th>3</th>\n",
       "      <td>27676</td>\n",
       "      <td>24h</td>\n",
       "      <td>We had a serious talk with some friends of our...</td>\n",
       "      <td>2</td>\n",
       "      <td>bonding</td>\n",
       "    </tr>\n",
       "    <tr>\n",
       "      <th>4</th>\n",
       "      <td>27677</td>\n",
       "      <td>24h</td>\n",
       "      <td>I went with grandchildren to butterfly display...</td>\n",
       "      <td>1</td>\n",
       "      <td>affection</td>\n",
       "    </tr>\n",
       "  </tbody>\n",
       "</table>\n",
       "</div>"
      ],
      "text/plain": [
       "    hmid reflection_period                                         cleaned_hm  \\\n",
       "0  27673               24h  I went on a successful date with someone I fel...   \n",
       "1  27674               24h  I was happy when my son got 90% marks in his e...   \n",
       "2  27675               24h       I went to the gym this morning and did yoga.   \n",
       "3  27676               24h  We had a serious talk with some friends of our...   \n",
       "4  27677               24h  I went with grandchildren to butterfly display...   \n",
       "\n",
       "   num_sentence predicted_category  \n",
       "0             1          affection  \n",
       "1             1          affection  \n",
       "2             1           exercise  \n",
       "3             2            bonding  \n",
       "4             1          affection  "
      ]
     },
     "execution_count": 97,
     "metadata": {},
     "output_type": "execute_result"
    }
   ],
   "source": [
    "trdata=pd.read_csv(r'C:\\Users\\vinay\\Hacker Earth\\hm_train.csv',encoding = 'unicode_escape')\n",
    "trdata.head()"
   ]
  },
  {
   "cell_type": "code",
   "execution_count": 98,
   "metadata": {},
   "outputs": [
    {
     "name": "stdout",
     "output_type": "stream",
     "text": [
      "Time taken to run this cell : 0:00:00.113744\n"
     ]
    },
    {
     "data": {
      "image/png": "[encoded data removed]",
      "text/plain": [
       "<Figure size 720x360 with 1 Axes>"
      ]
     },
     "metadata": {},
     "output_type": "display_data"
    }
   ],
   "source": [
    "start = datetime.now()\n",
    "balanced= [trdata['predicted_category'].values]\n",
    "plt.figure(figsize=(10,5))\n",
    "trdata.predicted_category.value_counts().plot(kind='bar');\n",
    "print(\"Time taken to run this cell :\", datetime.now() - start)"
   ]
  },
  {
   "cell_type": "markdown",
   "metadata": {},
   "source": [
    "### Imbalanced data we can see in the above the diagram."
   ]
  },
  {
   "cell_type": "code",
   "execution_count": 99,
   "metadata": {},
   "outputs": [],
   "source": [
    "x=trdata.cleaned_hm\n",
    "y=trdata.predicted_category"
   ]
  },
  {
   "cell_type": "markdown",
   "metadata": {},
   "source": [
    "### splitting the data :"
   ]
  },
  {
   "cell_type": "code",
   "execution_count": 122,
   "metadata": {},
   "outputs": [],
   "source": [
    "from sklearn import cross_validation\n",
    "X_1, X_test, y_1, y_test = cross_validation.train_test_split(x, y, test_size=0.2, random_state=0)\n",
    "X_train, X_cv, y_train, y_cv = cross_validation.train_test_split(X_1, y_1, test_size=0.25, random_state=0)\n",
    "# split the data into Train and Test and cv"
   ]
  },
  {
   "cell_type": "markdown",
   "metadata": {},
   "source": [
    " ## Bag of Words applied on data "
   ]
  },
  {
   "cell_type": "code",
   "execution_count": 123,
   "metadata": {},
   "outputs": [
    {
     "data": {
      "text/plain": [
       "(12064, 16586)"
      ]
     },
     "execution_count": 123,
     "metadata": {},
     "output_type": "execute_result"
    }
   ],
   "source": [
    "from sklearn.feature_extraction.text import CountVectorizer\n",
    "count_vect = CountVectorizer() \n",
    "count_vect.fit(X_train)\n",
    "train_bow    =count_vect.transform(X_train)\n",
    "cv_bow       =count_vect.transform(X_cv)\n",
    "# Here we fit transform to the data\n",
    "cv_bow.get_shape()"
   ]
  },
  {
   "cell_type": "code",
   "execution_count": 124,
   "metadata": {},
   "outputs": [
    {
     "data": {
      "text/plain": [
       "(12065, 16586)"
      ]
     },
     "execution_count": 124,
     "metadata": {},
     "output_type": "execute_result"
    }
   ],
   "source": [
    "test_bow     =count_vect.transform(X_test)\n",
    "test_bow.get_shape()"
   ]
  },
  {
   "cell_type": "code",
   "execution_count": 31,
   "metadata": {},
   "outputs": [],
   "source": []
  },
  {
   "cell_type": "code",
   "execution_count": null,
   "metadata": {},
   "outputs": [],
   "source": []
  },
  {
   "cell_type": "markdown",
   "metadata": {},
   "source": [
    "## getting the data from the csv file store in Data Frame"
   ]
  },
  {
   "cell_type": "code",
   "execution_count": 103,
   "metadata": {},
   "outputs": [],
   "source": [
    "tedata=pd.read_csv(r'C:\\Users\\vinay\\Hacker Earth\\hm_test.csv',encoding = 'unicode_escape')\n",
    "x_test_test=tedata.cleaned_hm"
   ]
  },
  {
   "cell_type": "code",
   "execution_count": 104,
   "metadata": {},
   "outputs": [
    {
     "data": {
      "text/html": [
       "<div>\n",
       "<style scoped>\n",
       "    .dataframe tbody tr th:only-of-type {\n",
       "        vertical-align: middle;\n",
       "    }\n",
       "\n",
       "    .dataframe tbody tr th {\n",
       "        vertical-align: top;\n",
       "    }\n",
       "\n",
       "    .dataframe thead th {\n",
       "        text-align: right;\n",
       "    }\n",
       "</style>\n",
       "<table border=\"1\" class=\"dataframe\">\n",
       "  <thead>\n",
       "    <tr style=\"text-align: right;\">\n",
       "      <th></th>\n",
       "      <th>hmid</th>\n",
       "      <th>reflection_period</th>\n",
       "      <th>cleaned_hm</th>\n",
       "      <th>num_sentence</th>\n",
       "    </tr>\n",
       "  </thead>\n",
       "  <tbody>\n",
       "    <tr>\n",
       "      <th>0</th>\n",
       "      <td>88305</td>\n",
       "      <td>3m</td>\n",
       "      <td>I spent the weekend in Chicago with my friends.</td>\n",
       "      <td>1</td>\n",
       "    </tr>\n",
       "    <tr>\n",
       "      <th>1</th>\n",
       "      <td>88306</td>\n",
       "      <td>3m</td>\n",
       "      <td>We moved back into our house after a remodel. ...</td>\n",
       "      <td>2</td>\n",
       "    </tr>\n",
       "    <tr>\n",
       "      <th>2</th>\n",
       "      <td>88307</td>\n",
       "      <td>3m</td>\n",
       "      <td>My fiance proposed to me in front of my family...</td>\n",
       "      <td>1</td>\n",
       "    </tr>\n",
       "    <tr>\n",
       "      <th>3</th>\n",
       "      <td>88308</td>\n",
       "      <td>3m</td>\n",
       "      <td>I ate lobster at a fancy restaurant with some ...</td>\n",
       "      <td>1</td>\n",
       "    </tr>\n",
       "    <tr>\n",
       "      <th>4</th>\n",
       "      <td>88309</td>\n",
       "      <td>3m</td>\n",
       "      <td>I went out to a nice restaurant on a date with...</td>\n",
       "      <td>5</td>\n",
       "    </tr>\n",
       "  </tbody>\n",
       "</table>\n",
       "</div>"
      ],
      "text/plain": [
       "    hmid reflection_period                                         cleaned_hm  \\\n",
       "0  88305                3m    I spent the weekend in Chicago with my friends.   \n",
       "1  88306                3m  We moved back into our house after a remodel. ...   \n",
       "2  88307                3m  My fiance proposed to me in front of my family...   \n",
       "3  88308                3m  I ate lobster at a fancy restaurant with some ...   \n",
       "4  88309                3m  I went out to a nice restaurant on a date with...   \n",
       "\n",
       "   num_sentence  \n",
       "0             1  \n",
       "1             2  \n",
       "2             1  \n",
       "3             1  \n",
       "4             5  "
      ]
     },
     "execution_count": 104,
     "metadata": {},
     "output_type": "execute_result"
    }
   ],
   "source": [
    "tedata.head()"
   ]
  },
  {
   "cell_type": "code",
   "execution_count": null,
   "metadata": {},
   "outputs": [],
   "source": []
  },
  {
   "cell_type": "markdown",
   "metadata": {},
   "source": [
    "# creating a function naivebayes \n",
    "\n",
    "in this function we are finding the optimal alpha value for multinomialNB.\n",
    "use that alpha value to preditc the test data in the algorithm."
   ]
  },
  {
   "cell_type": "code",
   "execution_count": 133,
   "metadata": {},
   "outputs": [],
   "source": [
    "from sklearn.preprocessing import LabelBinarizer\n",
    "from sklearn.naive_bayes import MultinomialNB\n",
    "\n",
    "def naivebayes(X_train,y_train,X_cv,y_cv,X_test,y_test,Vectorization,):\n",
    "    lb= LabelBinarizer()\n",
    "    y_train=np.array([number[0] for number in lb.fit_transform(y_train)])\n",
    "    y_test=np.array([number[0] for number in lb.fit_transform(y_test)])\n",
    "    alpha1=[0.0001,0.001,0.01,0.1,1,10,100,1000,10000]\n",
    "    cv_scores=[]\n",
    "    for optimal_alpha in alpha1:\n",
    "        NB=MultinomialNB(alpha=optimal_alpha)\n",
    "        scores = cross_val_score(NB,X_train, y_train, cv=10, scoring='f1')\n",
    "        cv_scores.append(scores.mean())\n",
    "    MSE = [1 - x for x in cv_scores]  #miss classification error\n",
    "    # determining best k\n",
    "    optimal_k = alpha1[MSE.index(min(MSE))]\n",
    "    #print('\\nThe optimal number of neighbors is %d.' % optimal_k)    \n",
    "    print(X_test.shape)   \n",
    "    print(X_train.shape)\n",
    "    good_NB = MultinomialNB(alpha=optimal_k)\n",
    "    # fitting the model\n",
    "    good_NB.fit(X_train, y_train)\n",
    "\n",
    "    predict=good_NB.predict(X_test)\n",
    "    acc = accuracy_score(y_test, predict) * 100\n",
    "    score=good_NB.score(X_test, y_test)\n",
    "    print('The accuracy of NaiveBayes for alpha =%f is %f%%' % (optimal_k, acc))\n",
    "    print('\\n')\n",
    "    print('f1 score for NB algorithm with alpha =',optimal_k,' is ' , np.round((f1_score(y_test, predict,average= 'macro')*100),decimals = 2))\n",
    "    print('\\n')\n",
    "    print('Precision for NB algorithm with aplha =',optimal_alpha,' is ' , np.round((precision_score(y_test, predict,average= 'macro')*100),decimals = 2))\n",
    "    print('\\n')\n",
    "    from sklearn import metrics\n",
    "    fpr, tpr, _ = metrics.roc_curve(y_test, predict)\n",
    "    roc_auc = metrics.auc(fpr, tpr)\n",
    "    plt.title('Receiver Operating Characteristic Curve')\n",
    "    plt.plot(fpr, tpr, 'b', label = 'AUC = %0.2f' % roc_auc)\n",
    "    plt.legend(loc = 'lower right')\n",
    "    plt.plot([0, 1], [0, 1],'r--')\n",
    "    plt.xlim([0, 1])\n",
    "    plt.ylim([0, 1])\n",
    "    plt.ylabel('True Positive Rate')\n",
    "    plt.xlabel('False Positive Rate')\n",
    "    plt.show()\n",
    "    cm = confusion_matrix(y_test, predict)\n",
    "    \n",
    "    print(y_test.shape)\n",
    "    print(predict.shape)\n",
    "    class_label = [\"negative\", \"positive\"]\n",
    "    df_cm = pd.DataFrame(cm, index = class_label, columns = class_label)\n",
    "    sns.heatmap(df_cm, annot = True, fmt = \"d\")\n",
    "    plt.title(\"Confusion Matrix\")\n",
    "    plt.xlabel(\"Predicted Label\")\n",
    "    plt.ylabel(\"True Label\")\n",
    "    plt.show()\n",
    "\n",
    "    \n",
    "    return good_NB"
   ]
  },
  {
   "cell_type": "markdown",
   "metadata": {},
   "source": [
    "calling the naivebayes function with the arguments"
   ]
  },
  {
   "cell_type": "code",
   "execution_count": 134,
   "metadata": {},
   "outputs": [
    {
     "name": "stdout",
     "output_type": "stream",
     "text": [
      "(12065, 16586)\n",
      "(36192, 16586)\n",
      "The accuracy of NaiveBayes for alpha =1.000000 is 90.352259%\n",
      "\n",
      "\n",
      "f1 score for NB algorithm with alpha = 1  is  88.97\n",
      "\n",
      "\n",
      "Precision for NB algorithm with aplha = 10000  is  89.3\n",
      "\n",
      "\n"
     ]
    },
    {
     "data": {
      "image/png": "[encoded data removed]",
      "text/plain": [
       "<Figure size 432x288 with 1 Axes>"
      ]
     },
     "metadata": {},
     "output_type": "display_data"
    },
    {
     "name": "stdout",
     "output_type": "stream",
     "text": [
      "(12065,)\n",
      "(12065,)\n"
     ]
    },
    {
     "data": {
      "image/png": "[encoded data removed]",
      "text/plain": [
       "<Figure size 432x288 with 2 Axes>"
      ]
     },
     "metadata": {},
     "output_type": "display_data"
    }
   ],
   "source": [
    "NBbow=naivebayes(train_bow,y_train,cv_bow,y_cv,test_bow,y_test,'Bag of Words')"
   ]
  },
  {
   "cell_type": "markdown",
   "metadata": {},
   "source": [
    "#### we have got the accuracy 90% with the  hyper parameter 1\n",
    "#### we have got F1 Score  89% with the  hyper parameter 1\n",
    "\n",
    "so we have use that hyper parameter for the predicton on test data."
   ]
  },
  {
   "cell_type": "markdown",
   "metadata": {},
   "source": [
    "### we got auc curve=0.89  its above the 0.50 it denotes that classifier is good classifier."
   ]
  },
  {
   "cell_type": "code",
   "execution_count": 131,
   "metadata": {},
   "outputs": [],
   "source": []
  },
  {
   "cell_type": "markdown",
   "metadata": {},
   "source": [
    "# TFIDF applied on data"
   ]
  },
  {
   "cell_type": "code",
   "execution_count": 140,
   "metadata": {},
   "outputs": [
    {
     "data": {
      "text/plain": [
       "(36192, 178307)"
      ]
     },
     "execution_count": 140,
     "metadata": {},
     "output_type": "execute_result"
    }
   ],
   "source": [
    "from sklearn.feature_extraction.text import TfidfVectorizer\n",
    "tf_idf_vect = TfidfVectorizer(ngram_range=(1,2)) #,min_df=10,max_df=300)\n",
    "train_tfidf    =tf_idf_vect.fit_transform(X_train)\n",
    "cv_tfidf       =tf_idf_vect.transform(X_cv)\n",
    "train_tfidf.get_shape()"
   ]
  },
  {
   "cell_type": "code",
   "execution_count": 141,
   "metadata": {},
   "outputs": [
    {
     "data": {
      "text/plain": [
       "(12065, 178307)"
      ]
     },
     "execution_count": 141,
     "metadata": {},
     "output_type": "execute_result"
    }
   ],
   "source": [
    "test_tfidf  =tf_idf_vect.transform(X_test)\n",
    "test_tfidf.get_shape()"
   ]
  },
  {
   "cell_type": "code",
   "execution_count": 144,
   "metadata": {},
   "outputs": [
    {
     "name": "stdout",
     "output_type": "stream",
     "text": [
      "(12065, 178307)\n",
      "(36192, 178307)\n",
      "The accuracy of NaiveBayes for alpha =0.100000 is 89.564857%\n",
      "\n",
      "\n",
      "f1 score for NB algorithm with alpha = 0.1  is  87.73\n",
      "\n",
      "\n",
      "Precision for NB algorithm with aplha = 10000  is  89.44\n",
      "\n",
      "\n"
     ]
    },
    {
     "data": {
      "image/png": "[encoded data removed]",
      "text/plain": [
       "<Figure size 432x288 with 1 Axes>"
      ]
     },
     "metadata": {},
     "output_type": "display_data"
    },
    {
     "name": "stdout",
     "output_type": "stream",
     "text": [
      "(12065,)\n",
      "(12065,)\n"
     ]
    },
    {
     "data": {
      "image/png": "[encoded data removed]",
      "text/plain": [
       "<Figure size 432x288 with 2 Axes>"
      ]
     },
     "metadata": {},
     "output_type": "display_data"
    },
    {
     "name": "stdout",
     "output_type": "stream",
     "text": [
      "Wall time: 10 s\n"
     ]
    }
   ],
   "source": [
    "%%time\n",
    "#tfidf=naivebayes(train_bow,y_train,cv_bow,y_cv,test_bow,y_test,'Bag of Words')\n",
    "NBtfidf=naivebayes(train_tfidf,y_train,cv_tfidf,y_cv,test_tfidf,y_test,'tfidf')"
   ]
  },
  {
   "cell_type": "markdown",
   "metadata": {},
   "source": [
    "### f1 score we have got 86% \n",
    "### bow f1 score  and accuracy is more than tfidf  so we have to impliment  the model with naive bayes bow vectorization model."
   ]
  },
  {
   "cell_type": "code",
   "execution_count": 154,
   "metadata": {},
   "outputs": [],
   "source": [
    "x_train=trdata.cleaned_hm\n",
    "y_train=trdata.predicted_category"
   ]
  },
  {
   "cell_type": "code",
   "execution_count": 155,
   "metadata": {},
   "outputs": [],
   "source": [
    "x_test=tedata.cleaned_hm"
   ]
  },
  {
   "cell_type": "code",
   "execution_count": 156,
   "metadata": {},
   "outputs": [
    {
     "name": "stdout",
     "output_type": "stream",
     "text": [
      "Time taken to run this cell : 0:00:04.534794\n"
     ]
    }
   ],
   "source": [
    "start = datetime.now()\n",
    "from sklearn.naive_bayes import MultinomialNB\n",
    "from sklearn.pipeline import Pipeline\n",
    "from sklearn.feature_extraction.text import TfidfTransformer,CountVectorizer\n",
    "from sklearn.metrics import classification_report\n",
    "\n",
    "naivebayes=Pipeline([('vect',CountVectorizer()),('tfidf',TfidfTransformer())\n",
    "                     ,('clf',MultinomialNB(alpha=1)),])\n",
    "naivebayes.fit(x_train,y_train)\n",
    "y_pred=naivebayes.predict(x_test)\n",
    "\n",
    "print(\"Time taken to run this cell :\", datetime.now() - start)"
   ]
  },
  {
   "cell_type": "code",
   "execution_count": null,
   "metadata": {},
   "outputs": [],
   "source": [
    "tedata.insert(3,\"Predict\",y_pred,True)"
   ]
  },
  {
   "cell_type": "code",
   "execution_count": 179,
   "metadata": {},
   "outputs": [
    {
     "data": {
      "text/html": [
       "<div>\n",
       "<style scoped>\n",
       "    .dataframe tbody tr th:only-of-type {\n",
       "        vertical-align: middle;\n",
       "    }\n",
       "\n",
       "    .dataframe tbody tr th {\n",
       "        vertical-align: top;\n",
       "    }\n",
       "\n",
       "    .dataframe thead th {\n",
       "        text-align: right;\n",
       "    }\n",
       "</style>\n",
       "<table border=\"1\" class=\"dataframe\">\n",
       "  <thead>\n",
       "    <tr style=\"text-align: right;\">\n",
       "      <th></th>\n",
       "      <th>hmid</th>\n",
       "      <th>reflection_period</th>\n",
       "      <th>cleaned_hm</th>\n",
       "      <th>Predict</th>\n",
       "      <th>num_sentence</th>\n",
       "    </tr>\n",
       "  </thead>\n",
       "  <tbody>\n",
       "    <tr>\n",
       "      <th>35837</th>\n",
       "      <td>124364</td>\n",
       "      <td>24h</td>\n",
       "      <td>I made new friends yesterday when I met old co...</td>\n",
       "      <td>bonding</td>\n",
       "      <td>1</td>\n",
       "    </tr>\n",
       "    <tr>\n",
       "      <th>35838</th>\n",
       "      <td>124365</td>\n",
       "      <td>24h</td>\n",
       "      <td>I was at the grocery store and saw a very old ...</td>\n",
       "      <td>affection</td>\n",
       "      <td>1</td>\n",
       "    </tr>\n",
       "    <tr>\n",
       "      <th>35839</th>\n",
       "      <td>124366</td>\n",
       "      <td>24h</td>\n",
       "      <td>about a month ago, I got in touch with an old ...</td>\n",
       "      <td>bonding</td>\n",
       "      <td>1</td>\n",
       "    </tr>\n",
       "    <tr>\n",
       "      <th>35840</th>\n",
       "      <td>124367</td>\n",
       "      <td>24h</td>\n",
       "      <td>I weighed myself and verified I was losing wei...</td>\n",
       "      <td>achievement</td>\n",
       "      <td>1</td>\n",
       "    </tr>\n",
       "    <tr>\n",
       "      <th>35841</th>\n",
       "      <td>124368</td>\n",
       "      <td>24h</td>\n",
       "      <td>It was my son's birthday and we had a party fo...</td>\n",
       "      <td>affection</td>\n",
       "      <td>1</td>\n",
       "    </tr>\n",
       "    <tr>\n",
       "      <th>35842</th>\n",
       "      <td>124369</td>\n",
       "      <td>24h</td>\n",
       "      <td>I found 10 dollars in my old jeans, I thought ...</td>\n",
       "      <td>achievement</td>\n",
       "      <td>1</td>\n",
       "    </tr>\n",
       "    <tr>\n",
       "      <th>35843</th>\n",
       "      <td>124370</td>\n",
       "      <td>24h</td>\n",
       "      <td>I attended a \"meet up\" event at a Chinese rest...</td>\n",
       "      <td>affection</td>\n",
       "      <td>2</td>\n",
       "    </tr>\n",
       "    <tr>\n",
       "      <th>35844</th>\n",
       "      <td>124371</td>\n",
       "      <td>24h</td>\n",
       "      <td>my wife has been out of town for the whole wee...</td>\n",
       "      <td>affection</td>\n",
       "      <td>3</td>\n",
       "    </tr>\n",
       "    <tr>\n",
       "      <th>35845</th>\n",
       "      <td>124372</td>\n",
       "      <td>24h</td>\n",
       "      <td>I made my favorite pasta salad for dinner.\\r\\r\\n</td>\n",
       "      <td>enjoy_the_moment</td>\n",
       "      <td>1</td>\n",
       "    </tr>\n",
       "    <tr>\n",
       "      <th>35846</th>\n",
       "      <td>124373</td>\n",
       "      <td>24h</td>\n",
       "      <td>My daughter went to bed without a fuss.  She u...</td>\n",
       "      <td>affection</td>\n",
       "      <td>3</td>\n",
       "    </tr>\n",
       "  </tbody>\n",
       "</table>\n",
       "</div>"
      ],
      "text/plain": [
       "         hmid reflection_period  \\\n",
       "35837  124364               24h   \n",
       "35838  124365               24h   \n",
       "35839  124366               24h   \n",
       "35840  124367               24h   \n",
       "35841  124368               24h   \n",
       "35842  124369               24h   \n",
       "35843  124370               24h   \n",
       "35844  124371               24h   \n",
       "35845  124372               24h   \n",
       "35846  124373               24h   \n",
       "\n",
       "                                              cleaned_hm           Predict  \\\n",
       "35837  I made new friends yesterday when I met old co...           bonding   \n",
       "35838  I was at the grocery store and saw a very old ...         affection   \n",
       "35839  about a month ago, I got in touch with an old ...           bonding   \n",
       "35840  I weighed myself and verified I was losing wei...       achievement   \n",
       "35841  It was my son's birthday and we had a party fo...         affection   \n",
       "35842  I found 10 dollars in my old jeans, I thought ...       achievement   \n",
       "35843  I attended a \"meet up\" event at a Chinese rest...         affection   \n",
       "35844  my wife has been out of town for the whole wee...         affection   \n",
       "35845   I made my favorite pasta salad for dinner.\\r\\r\\n  enjoy_the_moment   \n",
       "35846  My daughter went to bed without a fuss.  She u...         affection   \n",
       "\n",
       "       num_sentence  \n",
       "35837             1  \n",
       "35838             1  \n",
       "35839             1  \n",
       "35840             1  \n",
       "35841             1  \n",
       "35842             1  \n",
       "35843             2  \n",
       "35844             3  \n",
       "35845             1  \n",
       "35846             3  "
      ]
     },
     "execution_count": 179,
     "metadata": {},
     "output_type": "execute_result"
    }
   ],
   "source": [
    "tedata[15000:15010]"
   ]
  },
  {
   "cell_type": "code",
   "execution_count": 163,
   "metadata": {},
   "outputs": [
    {
     "data": {
      "text/html": [
       "<div>\n",
       "<style scoped>\n",
       "    .dataframe tbody tr th:only-of-type {\n",
       "        vertical-align: middle;\n",
       "    }\n",
       "\n",
       "    .dataframe tbody tr th {\n",
       "        vertical-align: top;\n",
       "    }\n",
       "\n",
       "    .dataframe thead th {\n",
       "        text-align: right;\n",
       "    }\n",
       "</style>\n",
       "<table border=\"1\" class=\"dataframe\">\n",
       "  <thead>\n",
       "    <tr style=\"text-align: right;\">\n",
       "      <th></th>\n",
       "      <th>hmid</th>\n",
       "      <th>reflection_period</th>\n",
       "      <th>cleaned_hm</th>\n",
       "      <th>Predict</th>\n",
       "      <th>num_sentence</th>\n",
       "    </tr>\n",
       "  </thead>\n",
       "  <tbody>\n",
       "    <tr>\n",
       "      <th>40000</th>\n",
       "      <td>128552</td>\n",
       "      <td>24h</td>\n",
       "      <td>Purchasing and playing a new video game.</td>\n",
       "      <td>achievement</td>\n",
       "      <td>1</td>\n",
       "    </tr>\n",
       "    <tr>\n",
       "      <th>40001</th>\n",
       "      <td>128553</td>\n",
       "      <td>24h</td>\n",
       "      <td>I called my mother to let her know that we are...</td>\n",
       "      <td>affection</td>\n",
       "      <td>1</td>\n",
       "    </tr>\n",
       "    <tr>\n",
       "      <th>40002</th>\n",
       "      <td>128554</td>\n",
       "      <td>24h</td>\n",
       "      <td>My happiest moment on yesterday, My brother pu...</td>\n",
       "      <td>achievement</td>\n",
       "      <td>3</td>\n",
       "    </tr>\n",
       "    <tr>\n",
       "      <th>40003</th>\n",
       "      <td>128555</td>\n",
       "      <td>24h</td>\n",
       "      <td>I took a half day at work and was able to spen...</td>\n",
       "      <td>affection</td>\n",
       "      <td>1</td>\n",
       "    </tr>\n",
       "    <tr>\n",
       "      <th>40004</th>\n",
       "      <td>128556</td>\n",
       "      <td>24h</td>\n",
       "      <td>I scored well in my Astronomy test.</td>\n",
       "      <td>achievement</td>\n",
       "      <td>1</td>\n",
       "    </tr>\n",
       "    <tr>\n",
       "      <th>40005</th>\n",
       "      <td>128557</td>\n",
       "      <td>24h</td>\n",
       "      <td>I am happy that I was able to refinance my car...</td>\n",
       "      <td>achievement</td>\n",
       "      <td>1</td>\n",
       "    </tr>\n",
       "    <tr>\n",
       "      <th>40006</th>\n",
       "      <td>128558</td>\n",
       "      <td>24h</td>\n",
       "      <td>Eating a few candies</td>\n",
       "      <td>achievement</td>\n",
       "      <td>1</td>\n",
       "    </tr>\n",
       "    <tr>\n",
       "      <th>40007</th>\n",
       "      <td>128559</td>\n",
       "      <td>24h</td>\n",
       "      <td>I got a new playstation 4, I got the Pro versi...</td>\n",
       "      <td>achievement</td>\n",
       "      <td>1</td>\n",
       "    </tr>\n",
       "    <tr>\n",
       "      <th>40008</th>\n",
       "      <td>128560</td>\n",
       "      <td>24h</td>\n",
       "      <td>My son is off to Cedar Point for the 8th grade...</td>\n",
       "      <td>affection</td>\n",
       "      <td>3</td>\n",
       "    </tr>\n",
       "    <tr>\n",
       "      <th>40009</th>\n",
       "      <td>128561</td>\n",
       "      <td>24h</td>\n",
       "      <td>I got to snuggle with a dog</td>\n",
       "      <td>affection</td>\n",
       "      <td>1</td>\n",
       "    </tr>\n",
       "  </tbody>\n",
       "</table>\n",
       "</div>"
      ],
      "text/plain": [
       "         hmid reflection_period  \\\n",
       "40000  128552               24h   \n",
       "40001  128553               24h   \n",
       "40002  128554               24h   \n",
       "40003  128555               24h   \n",
       "40004  128556               24h   \n",
       "40005  128557               24h   \n",
       "40006  128558               24h   \n",
       "40007  128559               24h   \n",
       "40008  128560               24h   \n",
       "40009  128561               24h   \n",
       "\n",
       "                                              cleaned_hm      Predict  \\\n",
       "40000           Purchasing and playing a new video game.  achievement   \n",
       "40001  I called my mother to let her know that we are...    affection   \n",
       "40002  My happiest moment on yesterday, My brother pu...  achievement   \n",
       "40003  I took a half day at work and was able to spen...    affection   \n",
       "40004                I scored well in my Astronomy test.  achievement   \n",
       "40005  I am happy that I was able to refinance my car...  achievement   \n",
       "40006                               Eating a few candies  achievement   \n",
       "40007  I got a new playstation 4, I got the Pro versi...  achievement   \n",
       "40008  My son is off to Cedar Point for the 8th grade...    affection   \n",
       "40009                        I got to snuggle with a dog    affection   \n",
       "\n",
       "       num_sentence  \n",
       "40000             1  \n",
       "40001             1  \n",
       "40002             3  \n",
       "40003             1  \n",
       "40004             1  \n",
       "40005             1  \n",
       "40006             1  \n",
       "40007             1  \n",
       "40008             3  \n",
       "40009             1  "
      ]
     },
     "execution_count": 163,
     "metadata": {},
     "output_type": "execute_result"
    }
   ],
   "source": [
    "tedata[40000:40010]"
   ]
  },
  {
   "cell_type": "code",
   "execution_count": null,
   "metadata": {},
   "outputs": [],
   "source": []
  },
  {
   "cell_type": "code",
   "execution_count": null,
   "metadata": {},
   "outputs": [],
   "source": []
  },
  {
   "cell_type": "code",
   "execution_count": 107,
   "metadata": {},
   "outputs": [],
   "source": []
  },
  {
   "cell_type": "code",
   "execution_count": 108,
   "metadata": {},
   "outputs": [],
   "source": []
  },
  {
   "cell_type": "code",
   "execution_count": null,
   "metadata": {},
   "outputs": [],
   "source": []
  },
  {
   "cell_type": "markdown",
   "metadata": {},
   "source": [
    "### After Predicting the test data store in data frame with column name ='Predict'"
   ]
  },
  {
   "cell_type": "code",
   "execution_count": 114,
   "metadata": {},
   "outputs": [
    {
     "data": {
      "text/html": [
       "<div>\n",
       "<style scoped>\n",
       "    .dataframe tbody tr th:only-of-type {\n",
       "        vertical-align: middle;\n",
       "    }\n",
       "\n",
       "    .dataframe tbody tr th {\n",
       "        vertical-align: top;\n",
       "    }\n",
       "\n",
       "    .dataframe thead th {\n",
       "        text-align: right;\n",
       "    }\n",
       "</style>\n",
       "<table border=\"1\" class=\"dataframe\">\n",
       "  <thead>\n",
       "    <tr style=\"text-align: right;\">\n",
       "      <th></th>\n",
       "      <th>hmid</th>\n",
       "      <th>reflection_period</th>\n",
       "      <th>cleaned_hm</th>\n",
       "      <th>Predict</th>\n",
       "      <th>num_sentence</th>\n",
       "    </tr>\n",
       "  </thead>\n",
       "  <tbody>\n",
       "    <tr>\n",
       "      <th>0</th>\n",
       "      <td>88305</td>\n",
       "      <td>3m</td>\n",
       "      <td>I spent the weekend in Chicago with my friends.</td>\n",
       "      <td>affection</td>\n",
       "      <td>1</td>\n",
       "    </tr>\n",
       "    <tr>\n",
       "      <th>1</th>\n",
       "      <td>88306</td>\n",
       "      <td>3m</td>\n",
       "      <td>We moved back into our house after a remodel. ...</td>\n",
       "      <td>affection</td>\n",
       "      <td>2</td>\n",
       "    </tr>\n",
       "    <tr>\n",
       "      <th>2</th>\n",
       "      <td>88307</td>\n",
       "      <td>3m</td>\n",
       "      <td>My fiance proposed to me in front of my family...</td>\n",
       "      <td>affection</td>\n",
       "      <td>1</td>\n",
       "    </tr>\n",
       "    <tr>\n",
       "      <th>3</th>\n",
       "      <td>88308</td>\n",
       "      <td>3m</td>\n",
       "      <td>I ate lobster at a fancy restaurant with some ...</td>\n",
       "      <td>affection</td>\n",
       "      <td>1</td>\n",
       "    </tr>\n",
       "    <tr>\n",
       "      <th>4</th>\n",
       "      <td>88309</td>\n",
       "      <td>3m</td>\n",
       "      <td>I went out to a nice restaurant on a date with...</td>\n",
       "      <td>affection</td>\n",
       "      <td>5</td>\n",
       "    </tr>\n",
       "  </tbody>\n",
       "</table>\n",
       "</div>"
      ],
      "text/plain": [
       "    hmid reflection_period                                         cleaned_hm  \\\n",
       "0  88305                3m    I spent the weekend in Chicago with my friends.   \n",
       "1  88306                3m  We moved back into our house after a remodel. ...   \n",
       "2  88307                3m  My fiance proposed to me in front of my family...   \n",
       "3  88308                3m  I ate lobster at a fancy restaurant with some ...   \n",
       "4  88309                3m  I went out to a nice restaurant on a date with...   \n",
       "\n",
       "     Predict  num_sentence  \n",
       "0  affection             1  \n",
       "1  affection             2  \n",
       "2  affection             1  \n",
       "3  affection             1  \n",
       "4  affection             5  "
      ]
     },
     "execution_count": 114,
     "metadata": {},
     "output_type": "execute_result"
    }
   ],
   "source": []
  },
  {
   "cell_type": "markdown",
   "metadata": {},
   "source": [
    "###  hmid, Predicted Category of Happiness with reflection time 24h  stored in Xl Sheet as given format"
   ]
  },
  {
   "cell_type": "code",
   "execution_count": 195,
   "metadata": {},
   "outputs": [],
   "source": [
    "from pandas import ExcelWriter\n",
    "\n",
    "writer = ExcelWriter(r'C:\\Users\\vinay\\\\Hacker Earth\\Predict.xlsx')\n",
    "tedata1=tedata[(tedata['reflection_period']=='24h')]\n",
    "tedata1[['hmid','Predict']].to_excel(writer,'Sheet3')\n",
    "writer.save()"
   ]
  },
  {
   "cell_type": "code",
   "execution_count": 185,
   "metadata": {},
   "outputs": [
    {
     "data": {
      "text/html": [
       "<div>\n",
       "<style scoped>\n",
       "    .dataframe tbody tr th:only-of-type {\n",
       "        vertical-align: middle;\n",
       "    }\n",
       "\n",
       "    .dataframe tbody tr th {\n",
       "        vertical-align: top;\n",
       "    }\n",
       "\n",
       "    .dataframe thead th {\n",
       "        text-align: right;\n",
       "    }\n",
       "</style>\n",
       "<table border=\"1\" class=\"dataframe\">\n",
       "  <thead>\n",
       "    <tr style=\"text-align: right;\">\n",
       "      <th></th>\n",
       "      <th>hmid</th>\n",
       "      <th>reflection_period</th>\n",
       "      <th>cleaned_hm</th>\n",
       "      <th>Predict</th>\n",
       "      <th>num_sentence</th>\n",
       "    </tr>\n",
       "  </thead>\n",
       "  <tbody>\n",
       "    <tr>\n",
       "      <th>20837</th>\n",
       "      <td>109270</td>\n",
       "      <td>24h</td>\n",
       "      <td>I found an old photograph of my deceased grand...</td>\n",
       "      <td>affection</td>\n",
       "      <td>1</td>\n",
       "    </tr>\n",
       "    <tr>\n",
       "      <th>20838</th>\n",
       "      <td>109271</td>\n",
       "      <td>24h</td>\n",
       "      <td>I'd just got the Masters qualification on Mturk.</td>\n",
       "      <td>achievement</td>\n",
       "      <td>1</td>\n",
       "    </tr>\n",
       "    <tr>\n",
       "      <th>20839</th>\n",
       "      <td>109272</td>\n",
       "      <td>24h</td>\n",
       "      <td>I was finally given the master qualification o...</td>\n",
       "      <td>achievement</td>\n",
       "      <td>1</td>\n",
       "    </tr>\n",
       "    <tr>\n",
       "      <th>20840</th>\n",
       "      <td>109273</td>\n",
       "      <td>24h</td>\n",
       "      <td>Watching a beautiful lightning storm!</td>\n",
       "      <td>affection</td>\n",
       "      <td>1</td>\n",
       "    </tr>\n",
       "    <tr>\n",
       "      <th>20841</th>\n",
       "      <td>109274</td>\n",
       "      <td>24h</td>\n",
       "      <td>I was happy when I baked some brownie cookies ...</td>\n",
       "      <td>affection</td>\n",
       "      <td>1</td>\n",
       "    </tr>\n",
       "  </tbody>\n",
       "</table>\n",
       "</div>"
      ],
      "text/plain": [
       "         hmid reflection_period  \\\n",
       "20837  109270               24h   \n",
       "20838  109271               24h   \n",
       "20839  109272               24h   \n",
       "20840  109273               24h   \n",
       "20841  109274               24h   \n",
       "\n",
       "                                              cleaned_hm      Predict  \\\n",
       "20837  I found an old photograph of my deceased grand...    affection   \n",
       "20838   I'd just got the Masters qualification on Mturk.  achievement   \n",
       "20839  I was finally given the master qualification o...  achievement   \n",
       "20840              Watching a beautiful lightning storm!    affection   \n",
       "20841  I was happy when I baked some brownie cookies ...    affection   \n",
       "\n",
       "       num_sentence  \n",
       "20837             1  \n",
       "20838             1  \n",
       "20839             1  \n",
       "20840             1  \n",
       "20841             1  "
      ]
     },
     "execution_count": 185,
     "metadata": {},
     "output_type": "execute_result"
    }
   ],
   "source": [
    "tedata1.head()"
   ]
  },
  {
   "cell_type": "code",
   "execution_count": null,
   "metadata": {},
   "outputs": [],
   "source": []
  }
 ],
 "metadata": {
  "kernelspec": {
   "display_name": "Python 3",
   "language": "python",
   "name": "python3"
  },
  "language_info": {
   "codemirror_mode": {
    "name": "ipython",
    "version": 3
   },
   "file_extension": ".py",
   "mimetype": "text/x-python",
   "name": "python",
   "nbconvert_exporter": "python",
   "pygments_lexer": "ipython3",
   "version": "3.6.5"
  }
 },
 "nbformat": 4,
 "nbformat_minor": 2
}
